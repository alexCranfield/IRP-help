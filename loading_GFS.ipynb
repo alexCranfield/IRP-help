{
 "cells": [
  {
   "attachments": {},
   "cell_type": "markdown",
   "metadata": {},
   "source": [
    "# ⚠️ This notebook is a work in progress. Come back soon!"
   ]
  },
  {
   "attachments": {},
   "cell_type": "markdown",
   "metadata": {},
   "source": [
    "# Loading and using GFS data\n",
    "\n",
    "The GFS (Global Forecast System) is a Numerical Weather Prediction (NWP) system run by the National Oceanic and Atmospheric Administration (NOAA) in the USA. \n",
    "\n",
    "The GFS uses a global model to simulate the atmosphere and generate forecasts of weather conditions such as temperature, precipitation, and wind speed and direction up to 16 days in advance.\n",
    "\n",
    "The GFS is a complex system that ingests data from a variety of sources, including weather satellites, ground-based radar and weather stations, and buoys and other sensors in the oceans. This data is used to initialize the model and improve its accuracy once running.\n",
    "\n",
    "The GFS model is run four times per day (per periods known as issuance times, which are 00, 06, 12, and 18 hrs UTC), with forecast output available at various intervals ranging from hourly to daily. The forecasts are used by meteorologists, government agencies, and other organizations to make decisions about a wide range of activities, including air travel, agriculture, and disaster response.\n",
    "\n",
    "We are going to make use of GFS data here as inputs into our ML model."
   ]
  },
  {
   "attachments": {},
   "cell_type": "markdown",
   "metadata": {},
   "source": [
    "## How to access the datastet\n",
    "NCAR (National Center for Atmospheric Research) has a [research data archive](https://rda.ucar.edu/lookfordata/) that we can use to download historical GFS from.\n",
    "\n",
    "`ds084.1` is of particular interest, though you are welcome to explore other data sources. It contains GFS forecast analyses and forecast grids at a 0.25° resolution grid. You can view it [here](https://rda.ucar.edu/datasets/ds084.1/).\n",
    "\n",
    "<span style=\"color:red\">**You will need to apply for an account to access this data, It may take a day or two to obtain access!**</span>\n",
    "\n",
    "0.25 degrees spatial resolution refers to the spacing of the grid used to represent the Earth's surface in the forecast model. Specifically, it means that the grid cells or pixels used in the forecast are spaced 0.25 degrees of latitude and longitude apart from each other.\n",
    "\n",
    "One degree of latitude or longitude at the equator corresponds to approximately 111 kilometers or 69 miles on the Earth's surface. Therefore, a 0.25-degree grid cell would cover an area of approximately 28 km x 28 km or 17 miles x 17 miles at the equator.\n",
    "\n",
    "Using a finer spatial resolution in a gridded forecast can allow for more detailed and accurate representation of the Earth's surface, as it enables the model to capture more small-scale features and variations in the atmosphere and surface conditions. However, this also requires more computational resources and can result in larger data files and longer processing times.\n",
    "\n",
    "For this reason, and the fact we want to go back to 2015, we'll stick to 0.25 for now.\n"
   ]
  },
  {
   "attachments": {},
   "cell_type": "markdown",
   "metadata": {},
   "source": [
    "### Downloading the data\n",
    "From the [dataset description page](https://rda.ucar.edu/datasets/ds084.1/), click \"*Data Access*. There's a few options for download that we can select.\n",
    "\n",
    "To reduce our computational load, let's try downloading using \"*Subsetting*\", which will allow us to select a time-range and select features before downloading. CLick on \"*Get a subset*\" which will take you to the [configuration page](https://rda.ucar.edu/datasets/ds084.1/dataaccess/).\n",
    "\n",
    "Let's try the following time range for now (`2018-01-15 00:00` to `2020-01-01 00:00`). For feature selection, let's select a chunk of features that we can use to perform feature importance / selection analyses - maybe using SHAP or correlation plots.\n",
    "\n",
    "Our features will be:\n",
    "\n",
    "```yaml\n",
    "[5-wave geopotential height, Absolute vorticity, Apparent temperature, Categorical rain (yes=1; no=0), Categorical snow (yes=1; no=0), Cloud water, Cloud water mixing ratio, Convective available potential energy, Convective precipitation, Derived radar reflectivity, Dewpoint temperature, Field capacity, Ground heat flux, Ice cover, Land cover (0=sea, 1=land),Latent heat flux, Liquid volumetric soil moisture (non-frozen), Low cloud cover,Maximum temperature, Minimum temperature, MSLP (Eta model reduction), Percent frozen precipitation, Planetary boundary layer height, Plant canopy surface water, Potential evaporation rate, Potential temperature, Precipitable water, Precipitation rate, Rain water mixing ratio, Relative humidity, Snow depth, Soil temperature, Soil type, \n",
    "Storm relative helicity, Sunshine duration, Temperature, Total cloud cover, Total precipitation, u-component of wind, v-component of wind, Vegetation,  Vertical speed shear, Volumetric soil moisture content, Water runoff, Wilting point, Wind speed (gust)]\n",
    "```\n",
    "\n",
    "Yikes, that's a lot! But feel free to download your own data and make tweaks to this selection. There are likely fields I haven't selected that you may want to investigate. Similarly, there may be fields that you think are silly. That's fine, feel free to unselect them!\n",
    "\n",
    "If you're wanting to have lots of features for an analysis - I would suggest having a shorter time window and using this as a sample to perform feature selection on, choose the best 10 or so fields, and then re-request for a longer timespan.\n",
    "\n",
    "I would recommend checking out the XXX for info on data sources. A lot of those variable names will be new to you, and that's okay! Whilst you technically don't need to know what they are - the model will work either way - it will help you in understanding the dataset and your decision making processes.\n",
    "\n",
    "Anyway, back to the NCAR screen. Click *continue*, and with some crunching, the subset will be calulated. You may see a message like: \"*5 parameters were removed from the list because they did not match your selections\"*. That's fine, we'll have to leave those for now. It could be they were not available for the time window we were requesting.\n",
    "\n",
    "- OUTPUT FORMAT: Let's as for the output format as \"*Converted to netCDF*\". We could use GRIBS (a binary format used in the weather fields) - but netCDFs are a bit nicer to play around with. \n",
    "- PARAMETER(S): All available\n",
    "- VERITICAL LEVEL(S): All available\n",
    "- GRIDDED PRODUCT: Analysis (we just want the observations for training, we can set up a forecast input for predictions later).\n",
    "- SPATIAL SELECTION: Data within a bounding box: GFS is global, but we only want the data covering our region of interest - the USA.\n",
    "\n",
    "Click the \"*Click Here\"* button to continue. This will sit and think a while again, so feel free to grab a coffee ☕️.\n"
   ]
  },
  {
   "cell_type": "markdown",
   "metadata": {},
   "source": []
  },
  {
   "attachments": {},
   "cell_type": "markdown",
   "metadata": {},
   "source": []
  },
  {
   "cell_type": "code",
   "execution_count": null,
   "metadata": {},
   "outputs": [],
   "source": [
    "# #"
   ]
  },
  {
   "cell_type": "code",
   "execution_count": null,
   "metadata": {},
   "outputs": [],
   "source": [
    "# Loading a"
   ]
  }
 ],
 "metadata": {
  "language_info": {
   "name": "python"
  },
  "orig_nbformat": 4
 },
 "nbformat": 4,
 "nbformat_minor": 2
}
